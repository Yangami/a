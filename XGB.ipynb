{
 "cells": [
  {
   "cell_type": "code",
   "execution_count": 3,
   "metadata": {},
   "outputs": [],
   "source": [
    "max_len=0\n",
    "max_str=''\n",
    "for i in [i for i in 'sddasisan']:\n",
    "    if len(i)>max_len:\n",
    "        max_len=len(i)\n",
    "        max_str=i\n"
   ]
  },
  {
   "cell_type": "code",
   "execution_count": 5,
   "metadata": {},
   "outputs": [
    {
     "name": "stdout",
     "output_type": "stream",
     "text": [
      "sdaas\n",
      "0\n"
     ]
    }
   ],
   "source": [
    "def getMaxRepeatSubstringLength(inputStr):\n",
    "    length = len(inputStr)\n",
    "    for i in reversed(range(length//2)):\n",
    "        count = 0\n",
    "        for j in range(length - i):\n",
    "            if inputStr[j] == inputStr[j+i]:\n",
    "                count = count + 1\n",
    "            else:\n",
    "                if length - j <= 2 * i:\n",
    "                    break\n",
    "                count = 0\n",
    "            if count == i:\n",
    "                return count * 2\n",
    "    return 0\n",
    "print(getMaxRepeatSubstringLength('asduias'))"
   ]
  },
  {
   "cell_type": "markdown",
   "metadata": {},
   "source": [
    "### 第一题十进制转八进制"
   ]
  },
  {
   "cell_type": "code",
   "execution_count": 17,
   "metadata": {},
   "outputs": [
    {
     "data": {
      "text/plain": [
       "'21'"
      ]
     },
     "execution_count": 17,
     "metadata": {},
     "output_type": "execute_result"
    }
   ],
   "source": [
    "num=17\n",
    "def transform(num):\n",
    "    cc=['0','1','2','3','4','5','6','7','8','9','A','B','C','D','E','F']\n",
    "    lst1,lst2=[],[]\n",
    "    temp=num\n",
    "    while temp:\n",
    "        res=str(temp%2)\n",
    "        temp=temp//2\n",
    "        lst1.append(res)\n",
    "    lst1.reverse()\n",
    "    temp=num\n",
    "    while temp:\n",
    "        res=str(temp%8)\n",
    "        temp=temp//8\n",
    "        lst2.append(res)\n",
    "    lst2.reverse()\n",
    "    return ''.join(lst2)\n",
    "transform(num)"
   ]
  },
  {
   "cell_type": "markdown",
   "metadata": {},
   "source": [
    "### 第二题"
   ]
  },
  {
   "cell_type": "code",
   "execution_count": null,
   "metadata": {},
   "outputs": [],
   "source": []
  },
  {
   "cell_type": "code",
   "execution_count": null,
   "metadata": {},
   "outputs": [],
   "source": [
    "def calc(i,j):\n",
    "    if i==n or j==m:\n",
    "        return 0\n",
    "    elif i==n-1 and j==m-1:\n",
    "        return A[i][j]\n",
    "    else:\n",
    "        return max(dfs(i+1,j),dfs(i,j+1))+A[i][j]\n",
    "    "
   ]
  },
  {
   "cell_type": "code",
   "execution_count": 25,
   "metadata": {},
   "outputs": [
    {
     "data": {
      "text/plain": [
       "'3,2,1'"
      ]
     },
     "execution_count": 25,
     "metadata": {},
     "output_type": "execute_result"
    }
   ],
   "source": [
    "','.join(['1','2','3'])[::-1]"
   ]
  },
  {
   "cell_type": "code",
   "execution_count": null,
   "metadata": {},
   "outputs": [],
   "source": []
  },
  {
   "cell_type": "code",
   "execution_count": null,
   "metadata": {},
   "outputs": [],
   "source": []
  },
  {
   "cell_type": "code",
   "execution_count": null,
   "metadata": {},
   "outputs": [],
   "source": []
  }
 ],
 "metadata": {
  "kernelspec": {
   "display_name": "Python 3",
   "language": "python",
   "name": "python3"
  },
  "language_info": {
   "codemirror_mode": {
    "name": "ipython",
    "version": 3
   },
   "file_extension": ".py",
   "mimetype": "text/x-python",
   "name": "python",
   "nbconvert_exporter": "python",
   "pygments_lexer": "ipython3",
   "version": "3.6.5"
  }
 },
 "nbformat": 4,
 "nbformat_minor": 2
}
